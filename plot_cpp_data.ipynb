{
 "cells": [
  {
   "cell_type": "markdown",
   "id": "3273d78e",
   "metadata": {},
   "source": [
    "# Plotting the results of the LDPC code simulatoins"
   ]
  },
  {
   "cell_type": "code",
   "execution_count": 2,
   "id": "e38a3c25",
   "metadata": {},
   "outputs": [],
   "source": [
    "import numpy as np\n",
    "import matplotlib.pyplot as plt"
   ]
  },
  {
   "cell_type": "code",
   "execution_count": 3,
   "id": "3beb5746",
   "metadata": {},
   "outputs": [],
   "source": [
    "def plot_data(path_fer, path_ps, concats=None, additional_paths=None,\n",
    "             upper_limit=12, lower_limit=0):\n",
    "    \"\"\"\n",
    "    plots the data in a very simple fer vs p plot\n",
    "    params:\n",
    "        - path_fer: location of the file containging the frame error rates\n",
    "        - path_ps: locatin of the file containing the respective crossover probabilites\n",
    "        - concats: list of additional data pairs\n",
    "        - additiona_paths: list of additional file pairs\n",
    "        - upper limit: plot limit to avoid straight lines of fer of 1\n",
    "        \n",
    "    \"\"\"\n",
    "    # read in files\n",
    "    with open(path_fer, 'r') as f:\n",
    "        fers_str = f.read().splitlines()\n",
    "    \n",
    "    with open(path_ps, 'r') as f:\n",
    "        p_str = f.read().splitlines()\n",
    "    \n",
    "    fers = [float(num) for num in fers_str]\n",
    "    ps = [float(num) for num in p_str]\n",
    "    \n",
    "    fers = np.array(fers)\n",
    "    ps = np.array(ps)\n",
    "    \n",
    "    # remove the fer of one, as they are due to finite sample size\n",
    "    nonzeros = np.nonzero(fers>0)[0]\n",
    "    fers = fers[nonzeros]\n",
    "    ps = ps[nonzeros]\n",
    "    \n",
    "    # handle additional input data\n",
    "    if concats:\n",
    "        np.concatenate([fers,np.array(concats[1])])\n",
    "        np.concatenate([ps, np.array(concats[0])])\n",
    "    \n",
    "    # handle additional input files\n",
    "    if additional_paths:\n",
    "        path_fer = additional_paths[0]\n",
    "        path_ps = additional_paths[1]\n",
    "\n",
    "        with open(path_fer, 'r') as f:\n",
    "            fers_str = f.read().splitlines()\n",
    "\n",
    "        with open(path_ps, 'r') as f:\n",
    "            p_str = f.read().splitlines()\n",
    "\n",
    "        _fers = [float(num) for num in fers_str]\n",
    "        _ps = [float(num) for num in p_str]\n",
    "\n",
    "        _fers = np.array(_fers)\n",
    "        _ps = np.array(_ps)\n",
    "\n",
    "        nonzeros = np.nonzero(_fers>0)[0]\n",
    "        _fers = _fers[nonzeros]\n",
    "        _ps = _ps[nonzeros]\n",
    "        \n",
    "        np.concatenate([fers,_fers])\n",
    "        np.concatenate([ps, _ps])\n",
    "    \n",
    "    return ps, fers"
   ]
  },
  {
   "cell_type": "markdown",
   "id": "c6275db1",
   "metadata": {},
   "source": [
    "# Creating the plot for the example codes"
   ]
  },
  {
   "cell_type": "code",
   "execution_count": 5,
   "id": "d5c2f513",
   "metadata": {},
   "outputs": [],
   "source": [
    "path_fer = \"results/fer\"\n",
    "path_ps = \"results/p\"\n",
    "\n",
    "ps_4096_3, fer_4096_3 = plot_data(path_fer, path_ps)\n",
    "\n",
    "path_fer2 = \"results/fer_detail_4095_738_102\"\n",
    "path_ps2 = \"results/p_detail_4095_738_102\"\n",
    "\n",
    "ps_4096_4, fer_4096_4 = plot_data(path_fer2, path_ps2)\n",
    "\n",
    "path_fer = \"results/fer_detail_1908_212_4\"\n",
    "path_ps = \"results/p_detail_1908_212_4\"\n",
    "\n",
    "ps_1908, fer_1908 = plot_data(path_fer, path_ps)\n",
    "\n",
    "path_fer = \"results/fer_detail_1908_212_4_big_error\"\n",
    "path_ps = \"results/p_detail_1908_212_4_big_error\"\n",
    "\n",
    "with open(path_fer, 'r') as f:\n",
    "    fers_str = f.read().splitlines()\n",
    "\n",
    "with open(path_ps, 'r') as f:\n",
    "    p_str = f.read().splitlines()\n",
    "\n",
    "fers = [float(num) for num in fers_str]\n",
    "ps = [float(num) for num in p_str]\n",
    "\n",
    "ps_1908 = np.concatenate([ps_1908, np.array(ps)])\n",
    "fer_1908 = np.concatenate([fer_1908, np.array(fers)])"
   ]
  },
  {
   "cell_type": "code",
   "execution_count": 6,
   "id": "832db8df",
   "metadata": {},
   "outputs": [
    {
     "data": {
      "text/plain": [
       "<matplotlib.legend.Legend at 0x7fac24301d30>"
      ]
     },
     "execution_count": 6,
     "metadata": {},
     "output_type": "execute_result"
    },
    {
     "data": {
      "image/png": "[encoded data removed]",
      "text/plain": [
       "<Figure size 432x288 with 1 Axes>"
      ]
     },
     "metadata": {
      "needs_background": "light"
     },
     "output_type": "display_data"
    }
   ],
   "source": [
    "plt.xscale('log')\n",
    "plt.yscale('log')\n",
    "plt.grid(which='both')\n",
    "plt.xlabel(\"Crossover Probability\")\n",
    "plt.ylabel(\"Frame error rate\")\n",
    "\n",
    "\n",
    "\n",
    "plt.scatter(ps_4096_3[1:-4], fer_4096_3[1:-4], label=\"Code 1\")\n",
    "plt.scatter(ps_4096_4, fer_4096_4, label=\"Code 2\")\n",
    "plt.scatter(ps_1908[1:], fer_1908[1:], label=\"Code 3\")\n",
    "\n",
    "plt.plot(ps_4096_3[1:-4], fer_4096_3[1:-4])\n",
    "plt.plot(ps_4096_4, fer_4096_4)\n",
    "plt.plot(ps_1908[1:], fer_1908[1:])\n",
    "\n",
    "plt.legend()\n",
    "plt.savefig(\"LDPC_fer_plot_sw.png\", dpi=300)"
   ]
  }
 ],
 "metadata": {
  "kernelspec": {
   "display_name": "Python 3 (ipykernel)",
   "language": "python",
   "name": "python3"
  },
  "language_info": {
   "codemirror_mode": {
    "name": "ipython",
    "version": 3
   },
   "file_extension": ".py",
   "mimetype": "text/x-python",
   "name": "python",
   "nbconvert_exporter": "python",
   "pygments_lexer": "ipython3",
   "version": "3.9.12"
  }
 },
 "nbformat": 4,
 "nbformat_minor": 5
}
